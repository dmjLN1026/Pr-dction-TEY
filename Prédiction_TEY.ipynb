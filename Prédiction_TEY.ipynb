{
  "nbformat": 4,
  "nbformat_minor": 0,
  "metadata": {
    "colab": {
      "provenance": [],
      "authorship_tag": "ABX9TyNQMON2+XP4k24gODWiFKTd",
      "include_colab_link": true
    },
    "kernelspec": {
      "name": "python3",
      "display_name": "Python 3"
    },
    "language_info": {
      "name": "python"
    }
  },
  "cells": [
    {
      "cell_type": "markdown",
      "metadata": {
        "id": "view-in-github",
        "colab_type": "text"
      },
      "source": [
        "<a href=\"https://colab.research.google.com/github/dmjLN1026/Pr-dction-TEY/blob/main/Pr%C3%A9diction_TEY.ipynb\" target=\"_parent\"><img src=\"https://colab.research.google.com/assets/colab-badge.svg\" alt=\"Open In Colab\"/></a>"
      ]
    },
    {
      "cell_type": "code",
      "execution_count": 2,
      "metadata": {
        "colab": {
          "base_uri": "https://localhost:8080/"
        },
        "id": "Fx0OkMjhQHTD",
        "outputId": "9d0ac5db-ae0c-4a43-eec5-c6106a61192d"
      },
      "outputs": [
        {
          "output_type": "stream",
          "name": "stdout",
          "text": [
            "Collecting ucimlrepo\n",
            "  Downloading ucimlrepo-0.0.7-py3-none-any.whl.metadata (5.5 kB)\n",
            "Requirement already satisfied: pandas>=1.0.0 in /usr/local/lib/python3.10/dist-packages (from ucimlrepo) (2.2.2)\n",
            "Requirement already satisfied: certifi>=2020.12.5 in /usr/local/lib/python3.10/dist-packages (from ucimlrepo) (2024.8.30)\n",
            "Requirement already satisfied: numpy>=1.22.4 in /usr/local/lib/python3.10/dist-packages (from pandas>=1.0.0->ucimlrepo) (1.26.4)\n",
            "Requirement already satisfied: python-dateutil>=2.8.2 in /usr/local/lib/python3.10/dist-packages (from pandas>=1.0.0->ucimlrepo) (2.8.2)\n",
            "Requirement already satisfied: pytz>=2020.1 in /usr/local/lib/python3.10/dist-packages (from pandas>=1.0.0->ucimlrepo) (2024.2)\n",
            "Requirement already satisfied: tzdata>=2022.7 in /usr/local/lib/python3.10/dist-packages (from pandas>=1.0.0->ucimlrepo) (2024.2)\n",
            "Requirement already satisfied: six>=1.5 in /usr/local/lib/python3.10/dist-packages (from python-dateutil>=2.8.2->pandas>=1.0.0->ucimlrepo) (1.16.0)\n",
            "Downloading ucimlrepo-0.0.7-py3-none-any.whl (8.0 kB)\n",
            "Installing collected packages: ucimlrepo\n",
            "Successfully installed ucimlrepo-0.0.7\n"
          ]
        }
      ],
      "source": [
        "pip install ucimlrepo"
      ]
    },
    {
      "cell_type": "code",
      "source": [
        "from ucimlrepo import fetch_ucirepo\n",
        "\n",
        "# fetch dataset\n",
        "gas_turbine_co_and_nox_emission_data_set = fetch_ucirepo(id=551)\n",
        "\n",
        "# data (as pandas dataframes)\n",
        "X = gas_turbine_co_and_nox_emission_data_set.data.features\n",
        "y = gas_turbine_co_and_nox_emission_data_set.data.targets\n",
        "\n",
        "# metadata\n",
        "print(gas_turbine_co_and_nox_emission_data_set.metadata)\n",
        "\n",
        "# variable information\n",
        "print(gas_turbine_co_and_nox_emission_data_set.variables)\n"
      ],
      "metadata": {
        "colab": {
          "base_uri": "https://localhost:8080/"
        },
        "id": "RmJL_Nw6QJgl",
        "outputId": "91ca7885-fe55-4562-e4c7-064147e71b01"
      },
      "execution_count": 3,
      "outputs": [
        {
          "output_type": "stream",
          "name": "stdout",
          "text": [
            "{'uci_id': 551, 'name': 'Gas Turbine CO and NOx Emission Data Set', 'repository_url': 'https://archive.ics.uci.edu/dataset/551/gas+turbine+co+and+nox+emission+data+set', 'data_url': 'https://archive.ics.uci.edu/static/public/551/data.csv', 'abstract': 'The dataset contains 36733 instances of 11 sensor measures aggregated over one hour, from a gas turbine located in Turkey for the purpose of studying flue gas emissions, namely CO and NOx.', 'area': 'Computer Science', 'tasks': ['Regression', 'Clustering'], 'characteristics': ['Multivariate'], 'num_instances': 36733, 'num_features': 12, 'feature_types': ['Real'], 'demographics': [], 'target_col': None, 'index_col': None, 'has_missing_values': 'no', 'missing_values_symbol': None, 'year_of_dataset_creation': 2019, 'last_updated': 'Fri Mar 29 2024', 'dataset_doi': '10.24432/C5WC95', 'creators': [], 'intro_paper': None, 'additional_info': {'summary': \"The dataset contains 36733 instances of 11 sensor measures aggregated over one hour (by means of average or sum) from a gas turbine located in Turkey's north western region for the purpose of studying flue gas emissions, namely CO and NOx (NO + NO2). The data comes from the same power plant as the dataset (http://archive.ics.uci.edu/ml/datasets/Combined+Cycle+Power+Plant) used for predicting hourly net energy yield. By contrast, this data is collected in another data range (01.01.2011 - 31.12.2015), includes gas turbine parameters (such as Turbine Inlet Temperature and Compressor Discharge pressure) in addition to the ambient variables. Note that the dates are not given in the instances but the data are sorted in chronological order. See the attribute information and relevant paper for details. Kindly follow the protocol mentioned in the paper (using the first three years' data for training/ cross-validation and the last two for testing) for reproducibility and comparability of works. The dataset can be well used for predicting turbine energy yield (TEY) using ambient variables as features.\", 'purpose': None, 'funded_by': None, 'instances_represent': None, 'recommended_data_splits': None, 'sensitive_data': None, 'preprocessing_description': None, 'variable_info': 'The explanations of sensor measurements and their brief statistics are given below. \\r\\n\\r\\nVariable (Abbr.) Unit Min Max Mean\\r\\nAmbient temperature (AT) C â€“6.23 37.10 17.71\\r\\nAmbient pressure (AP) mbar 985.85 1036.56 1013.07\\r\\nAmbient humidity (AH) (%) 24.08 100.20 77.87\\r\\nAir filter difference pressure (AFDP) mbar 2.09 7.61 3.93\\r\\nGas turbine exhaust pressure (GTEP) mbar 17.70 40.72 25.56\\r\\nTurbine inlet temperature (TIT) C 1000.85 1100.89 1081.43\\r\\nTurbine after temperature (TAT) C 511.04 550.61 546.16\\r\\nCompressor discharge pressure (CDP) mbar 9.85 15.16 12.06\\r\\nTurbine energy yield (TEY) MWH 100.02 179.50 133.51\\r\\nCarbon monoxide (CO) mg/m3 0.00 44.10 2.37\\r\\nNitrogen oxides (NOx) mg/m3 25.90 119.91 65.29', 'citation': None}}\n",
            "    name     role        type demographic description units missing_values\n",
            "0   year  Feature     Integer        None        None  None             no\n",
            "1     AT  Feature  Continuous        None        None  None             no\n",
            "2     AP  Feature  Continuous        None        None  None             no\n",
            "3     AH  Feature  Continuous        None        None  None             no\n",
            "4   AFDP  Feature  Continuous        None        None  None             no\n",
            "5   GTEP  Feature  Continuous        None        None  None             no\n",
            "6    TIT  Feature  Continuous        None        None  None             no\n",
            "7    TAT  Feature  Continuous        None        None  None             no\n",
            "8    TEY  Feature  Continuous        None        None  None             no\n",
            "9    CDP  Feature  Continuous        None        None  None             no\n",
            "10    CO  Feature  Continuous        None        None  None             no\n",
            "11   NOX  Feature  Continuous        None        None  None             no\n"
          ]
        }
      ]
    },
    {
      "cell_type": "code",
      "source": [
        "import pandas as pd\n",
        "data = pd.read_csv('https://archive.ics.uci.edu/static/public/551/data.csv')\n",
        "\n",
        "data.info()"
      ],
      "metadata": {
        "colab": {
          "base_uri": "https://localhost:8080/"
        },
        "id": "lRFXK7VUmgcQ",
        "outputId": "ba46c0cb-e263-4433-86fe-ba2e84b06907"
      },
      "execution_count": 5,
      "outputs": [
        {
          "output_type": "stream",
          "name": "stdout",
          "text": [
            "<class 'pandas.core.frame.DataFrame'>\n",
            "RangeIndex: 36733 entries, 0 to 36732\n",
            "Data columns (total 12 columns):\n",
            " #   Column  Non-Null Count  Dtype  \n",
            "---  ------  --------------  -----  \n",
            " 0   year    36733 non-null  int64  \n",
            " 1   AT      36733 non-null  float64\n",
            " 2   AP      36733 non-null  float64\n",
            " 3   AH      36733 non-null  float64\n",
            " 4   AFDP    36733 non-null  float64\n",
            " 5   GTEP    36733 non-null  float64\n",
            " 6   TIT     36733 non-null  float64\n",
            " 7   TAT     36733 non-null  float64\n",
            " 8   TEY     36733 non-null  float64\n",
            " 9   CDP     36733 non-null  float64\n",
            " 10  CO      36733 non-null  float64\n",
            " 11  NOX     36733 non-null  float64\n",
            "dtypes: float64(11), int64(1)\n",
            "memory usage: 3.4 MB\n"
          ]
        }
      ]
    }
  ]
}